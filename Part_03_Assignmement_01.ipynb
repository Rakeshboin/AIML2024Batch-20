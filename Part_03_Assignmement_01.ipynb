{
  "nbformat": 4,
  "nbformat_minor": 0,
  "metadata": {
    "colab": {
      "provenance": []
    },
    "kernelspec": {
      "name": "python3",
      "display_name": "Python 3"
    },
    "language_info": {
      "name": "python"
    }
  },
  "cells": [
    {
      "cell_type": "code",
      "execution_count": null,
      "metadata": {
        "id": "MWQgfH1xUyt1"
      },
      "outputs": [],
      "source": []
    },
    {
      "cell_type": "code",
      "source": [
        "import pandas as pd\n",
        "df_tsv = pd.read_csv(\"/content/2203A51466- Sheet1.tsv\")\n",
        "print(df_tsv)"
      ],
      "metadata": {
        "colab": {
          "base_uri": "https://localhost:8080/"
        },
        "id": "0nCYwBrpcajz",
        "outputId": "7b1a9537-541b-4746-a6dd-995cd5d6fd36"
      },
      "execution_count": null,
      "outputs": [
        {
          "output_type": "stream",
          "name": "stdout",
          "text": [
            "  age\\theight\n",
            "0     12\\t115\n",
            "1     13\\t130\n",
            "2     46\\t167\n",
            "3     20\\t145\n",
            "4     34\\t153\n"
          ]
        }
      ]
    },
    {
      "cell_type": "code",
      "source": [
        "df_csv = pd.read_csv(\"/content/2203A51466 - Sheet1.csv\")\n",
        "print(df_csv)"
      ],
      "metadata": {
        "colab": {
          "base_uri": "https://localhost:8080/"
        },
        "id": "eyVA1OIQcvep",
        "outputId": "b8549000-67f5-4cc6-e481-4320e2f3d87e"
      },
      "execution_count": null,
      "outputs": [
        {
          "output_type": "stream",
          "name": "stdout",
          "text": [
            "   age  height\n",
            "0   12     115\n",
            "1   13     130\n",
            "2   46     167\n",
            "3   20     145\n",
            "4   34     153\n"
          ]
        }
      ]
    },
    {
      "cell_type": "code",
      "source": [
        "df_xlsx = pd.read_excel(\"/content/2203A51466.x.xlsx\")\n",
        "print(df_xlsx)\n"
      ],
      "metadata": {
        "colab": {
          "base_uri": "https://localhost:8080/"
        },
        "id": "T4sal9sIcz7G",
        "outputId": "cf85e4c5-f2d3-4cc1-8cb7-e4f4b35716b0"
      },
      "execution_count": null,
      "outputs": [
        {
          "output_type": "stream",
          "name": "stdout",
          "text": [
            "   age  height\n",
            "0   12     115\n",
            "1   13     130\n",
            "2   46     167\n",
            "3   20     145\n",
            "4   34     153\n"
          ]
        }
      ]
    },
    {
      "cell_type": "code",
      "source": [
        "url = \"https://github.com/Rakeshboini/aAiml-task3.git\"\n",
        "df_url = pd.read_csv(url,'\\t')\n",
        "print(df_url)"
      ],
      "metadata": {
        "colab": {
          "base_uri": "https://localhost:8080/"
        },
        "id": "aSaSrqSGc4sv",
        "outputId": "68f3e699-4054-4e8b-f067-3739d4f400bd"
      },
      "execution_count": null,
      "outputs": [
        {
          "output_type": "stream",
          "name": "stderr",
          "text": [
            "<ipython-input-12-1c74f0217a07>:2: FutureWarning: In a future version of pandas all arguments of read_csv except for the argument 'filepath_or_buffer' will be keyword-only.\n",
            "  df_url = pd.read_csv(url,'\\t')\n"
          ]
        },
        {
          "output_type": "stream",
          "name": "stdout",
          "text": [
            "                                        <!DOCTYPE html>\n",
            "0                                                 <html\n",
            "1                                             lang=\"en\"\n",
            "2       data-color-mode=\"auto\" data-light-theme=\"lig...\n",
            "3       data-a11y-animated-images=\"system\" data-a11y...\n",
            "4                                                     >\n",
            "...                                                 ...\n",
            "1260                                             </div>\n",
            "1261      <div id=\"js-global-screen-reader-notice\" c...\n",
            "1262      <div id=\"js-global-screen-reader-notice-as...\n",
            "1263                                            </body>\n",
            "1264                                            </html>\n",
            "\n",
            "[1265 rows x 1 columns]\n"
          ]
        }
      ]
    }
  ]
}